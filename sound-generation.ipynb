{
  "nbformat": 4,
  "nbformat_minor": 0,
  "metadata": {
    "colab": {
      "provenance": [],
      "authorship_tag": "ABX9TyPHa9NRwAhHJLgPcO8PYfPj",
      "include_colab_link": true
    },
    "kernelspec": {
      "name": "python3",
      "display_name": "Python 3"
    },
    "language_info": {
      "name": "python"
    }
  },
  "cells": [
    {
      "cell_type": "markdown",
      "metadata": {
        "id": "view-in-github",
        "colab_type": "text"
      },
      "source": [
        "<a href=\"https://colab.research.google.com/github/mayamarshel/PostcardFromJungle/blob/main/sound-generation.ipynb\" target=\"_parent\"><img src=\"https://colab.research.google.com/assets/colab-badge.svg\" alt=\"Open In Colab\"/></a>"
      ]
    },
    {
      "cell_type": "code",
      "execution_count": null,
      "metadata": {
        "id": "_ttstKj8V9gU"
      },
      "outputs": [],
      "source": [
        "!pip install torchsde\n",
        "import torch\n",
        "import soundfile as sf\n",
        "from diffusers import StableAudioPipeline\n",
        "from IPython.display import Audio  # Import the Audio module for playback\n",
        "\n",
        "pipe = StableAudioPipeline.from_pretrained(\"stabilityai/stable-audio-open-1.0\", torch_dtype=torch.float16)\n",
        "pipe = pipe.to(\"cuda\")\n",
        "\n",
        "# define the prompts\n",
        "prompt = \"Bossa nova\"\n",
        "negative_prompt = \"Low quality.\"\n",
        "\n",
        "# set the seed for generator\n",
        "generator = torch.Generator(\"cuda\")\n",
        "\n",
        "# run the generation\n",
        "audio = pipe(\n",
        "    prompt,\n",
        "    negative_prompt=negative_prompt,\n",
        "    num_inference_steps=200,\n",
        "    audio_end_in_s=21.0,\n",
        "    num_waveforms_per_prompt=3,\n",
        "    generator=generator,\n",
        ").audios\n",
        "\n",
        "output = audio[0].T.float().cpu().numpy()\n",
        "sf.write(\"output.wav\", output, pipe.vae.sampling_rate)\n",
        "\n",
        "# Play the audio in Colab\n",
        "Audio(\"output.wav\")"
      ]
    }
  ]
}